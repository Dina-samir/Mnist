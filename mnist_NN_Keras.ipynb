{
  "nbformat": 4,
  "nbformat_minor": 0,
  "metadata": {
    "colab": {
      "name": "mnist_NN_Keras",
      "provenance": [],
      "include_colab_link": true
    },
    "kernelspec": {
      "name": "python3",
      "display_name": "Python 3"
    },
    "accelerator": "GPU"
  },
  "cells": [
    {
      "cell_type": "markdown",
      "metadata": {
        "id": "view-in-github",
        "colab_type": "text"
      },
      "source": [
        "<a href=\"https://colab.research.google.com/github/Dina-samir/Mnist/blob/master/mnist_NN_Keras.ipynb\" target=\"_parent\"><img src=\"https://colab.research.google.com/assets/colab-badge.svg\" alt=\"Open In Colab\"/></a>"
      ]
    },
    {
      "cell_type": "code",
      "metadata": {
        "id": "R-D53WE-vXoM",
        "colab_type": "code",
        "outputId": "a3e997ef-f38d-4040-99b8-75da55f5d356",
        "colab": {
          "base_uri": "https://localhost:8080/",
          "height": 98
        }
      },
      "source": [
        "from keras.datasets import mnist\n",
        "from keras.preprocessing.image import load_img, array_to_img\n",
        "from keras.utils.np_utils import to_categorical\n",
        "from keras.models import Sequential\n",
        "from keras.layers import Dense\n",
        "import numpy as np\n",
        "import matplotlib.pyplot as plt\n",
        "%matplotlib inline\n"
      ],
      "execution_count": 1,
      "outputs": [
        {
          "output_type": "stream",
          "text": [
            "Using TensorFlow backend.\n"
          ],
          "name": "stderr"
        },
        {
          "output_type": "display_data",
          "data": {
            "text/html": [
              "<p style=\"color: red;\">\n",
              "The default version of TensorFlow in Colab will soon switch to TensorFlow 2.x.<br>\n",
              "We recommend you <a href=\"https://www.tensorflow.org/guide/migrate\" target=\"_blank\">upgrade</a> now \n",
              "or ensure your notebook will continue to use TensorFlow 1.x via the <code>%tensorflow_version 1.x</code> magic:\n",
              "<a href=\"https://colab.research.google.com/notebooks/tensorflow_version.ipynb\" target=\"_blank\">more info</a>.</p>\n"
            ],
            "text/plain": [
              "<IPython.core.display.HTML object>"
            ]
          },
          "metadata": {
            "tags": []
          }
        }
      ]
    },
    {
      "cell_type": "code",
      "metadata": {
        "id": "DAJs_22QGTU6",
        "colab_type": "code",
        "colab": {}
      },
      "source": [
        "(X_train,y_train),(X_test,y_test)=mnist.load_data()"
      ],
      "execution_count": 0,
      "outputs": []
    },
    {
      "cell_type": "code",
      "metadata": {
        "id": "ow10AVFYG8-K",
        "colab_type": "code",
        "outputId": "f35fd054-df92-4ebc-e2ed-772a47bc4f78",
        "colab": {
          "base_uri": "https://localhost:8080/",
          "height": 87
        }
      },
      "source": [
        "print(X_train.shape)\n",
        "print(X_test.shape)\n",
        "print(y_train.shape)\n",
        "print(y_test.shape)"
      ],
      "execution_count": 8,
      "outputs": [
        {
          "output_type": "stream",
          "text": [
            "(60000, 28, 28)\n",
            "(10000, 28, 28)\n",
            "(60000,)\n",
            "(10000,)\n"
          ],
          "name": "stdout"
        }
      ]
    },
    {
      "cell_type": "markdown",
      "metadata": {
        "id": "eHXQdZtEM2So",
        "colab_type": "text"
      },
      "source": [
        "**Data preprocessing**"
      ]
    },
    {
      "cell_type": "code",
      "metadata": {
        "id": "oiyvmm3jHKIw",
        "colab_type": "code",
        "colab": {}
      },
      "source": [
        "image_height,image_width=28,28\n",
        "X_train = X_train.reshape(60000,image_height*image_width,1)\n",
        "X_test = X_test.reshape(10000,image_height*image_width,1)\n",
        "#rescale image from 0 to 1\n",
        "X_train = X_train.astype('float32')\n",
        "X_test = X_test.astype('float32')\n",
        "X_train /= 255.0\n",
        "X_test /= 255.0\n",
        "y_train=to_categorical(y_train,10)\n",
        "y_test=to_categorical(y_test,10)"
      ],
      "execution_count": 0,
      "outputs": []
    },
    {
      "cell_type": "code",
      "metadata": {
        "id": "SJTV9sA6P4W5",
        "colab_type": "code",
        "colab": {
          "base_uri": "https://localhost:8080/",
          "height": 87
        },
        "outputId": "ae4bd665-3d17-46ad-e85d-34f6e1e2f48d"
      },
      "source": [
        "print(X_train.shape)\n",
        "print(X_test.shape)\n",
        "print(y_train.shape)\n",
        "print(y_test.shape)"
      ],
      "execution_count": 13,
      "outputs": [
        {
          "output_type": "stream",
          "text": [
            "(60000, 784, 1)\n",
            "(10000, 784, 1)\n",
            "(60000, 10, 10)\n",
            "(10000, 10, 10)\n"
          ],
          "name": "stdout"
        }
      ]
    },
    {
      "cell_type": "markdown",
      "metadata": {
        "id": "7FLe-lW4PO4v",
        "colab_type": "text"
      },
      "source": [
        "**Build Model**\n"
      ]
    },
    {
      "cell_type": "code",
      "metadata": {
        "id": "Oo2aoRzYPImy",
        "colab_type": "code",
        "outputId": "b8d9de5e-59a1-40d1-fb14-0269c5cd8cf1",
        "colab": {
          "base_uri": "https://localhost:8080/",
          "height": 142
        }
      },
      "source": [
        "model= Sequential()\n",
        "model.add(Dense(512,activation='relu',input_shape=(784,)))\n",
        "model.add(Dense(512,activation='relu'))\n",
        "model.add(Dense(10,activation='softmax'))"
      ],
      "execution_count": 6,
      "outputs": [
        {
          "output_type": "stream",
          "text": [
            "WARNING:tensorflow:From /usr/local/lib/python3.6/dist-packages/keras/backend/tensorflow_backend.py:66: The name tf.get_default_graph is deprecated. Please use tf.compat.v1.get_default_graph instead.\n",
            "\n",
            "WARNING:tensorflow:From /usr/local/lib/python3.6/dist-packages/keras/backend/tensorflow_backend.py:541: The name tf.placeholder is deprecated. Please use tf.compat.v1.placeholder instead.\n",
            "\n",
            "WARNING:tensorflow:From /usr/local/lib/python3.6/dist-packages/keras/backend/tensorflow_backend.py:4432: The name tf.random_uniform is deprecated. Please use tf.random.uniform instead.\n",
            "\n"
          ],
          "name": "stdout"
        }
      ]
    },
    {
      "cell_type": "markdown",
      "metadata": {
        "id": "bUldC5Lr8BOB",
        "colab_type": "text"
      },
      "source": [
        "**Compile Model**\n"
      ]
    },
    {
      "cell_type": "code",
      "metadata": {
        "id": "FR38wKq97hgk",
        "colab_type": "code",
        "outputId": "982b58b7-63d3-402d-e26c-0b8ef0c56bda",
        "colab": {
          "base_uri": "https://localhost:8080/",
          "height": 107
        }
      },
      "source": [
        "model.compile(optimizer=\"adam\",loss=\"categorical_crossentropy\",metrics=['accuracy'])"
      ],
      "execution_count": 7,
      "outputs": [
        {
          "output_type": "stream",
          "text": [
            "WARNING:tensorflow:From /usr/local/lib/python3.6/dist-packages/keras/optimizers.py:793: The name tf.train.Optimizer is deprecated. Please use tf.compat.v1.train.Optimizer instead.\n",
            "\n",
            "WARNING:tensorflow:From /usr/local/lib/python3.6/dist-packages/keras/backend/tensorflow_backend.py:3576: The name tf.log is deprecated. Please use tf.math.log instead.\n",
            "\n"
          ],
          "name": "stdout"
        }
      ]
    },
    {
      "cell_type": "code",
      "metadata": {
        "id": "o41eeGeO9-BC",
        "colab_type": "code",
        "outputId": "9ea2463a-0b9e-4a94-833e-0ca1d8d8aceb",
        "colab": {
          "base_uri": "https://localhost:8080/",
          "height": 263
        }
      },
      "source": [
        "model.summary()"
      ],
      "execution_count": 8,
      "outputs": [
        {
          "output_type": "stream",
          "text": [
            "Model: \"sequential_1\"\n",
            "_________________________________________________________________\n",
            "Layer (type)                 Output Shape              Param #   \n",
            "=================================================================\n",
            "dense_1 (Dense)              (None, 512)               401920    \n",
            "_________________________________________________________________\n",
            "dense_2 (Dense)              (None, 512)               262656    \n",
            "_________________________________________________________________\n",
            "dense_3 (Dense)              (None, 10)                5130      \n",
            "=================================================================\n",
            "Total params: 669,706\n",
            "Trainable params: 669,706\n",
            "Non-trainable params: 0\n",
            "_________________________________________________________________\n"
          ],
          "name": "stdout"
        }
      ]
    },
    {
      "cell_type": "markdown",
      "metadata": {
        "id": "n0vUAace-3-g",
        "colab_type": "text"
      },
      "source": [
        "**Train The Model**"
      ]
    },
    {
      "cell_type": "code",
      "metadata": {
        "id": "20cn7fEW-OJe",
        "colab_type": "code",
        "outputId": "d609e590-7c70-4648-8e88-cb55a2a4945a",
        "colab": {
          "base_uri": "https://localhost:8080/",
          "height": 1000
        }
      },
      "source": [
        "history= model.fit(X_train,y_train,epochs=20,validation_data=(X_test,y_test))"
      ],
      "execution_count": 9,
      "outputs": [
        {
          "output_type": "stream",
          "text": [
            "WARNING:tensorflow:From /usr/local/lib/python3.6/dist-packages/tensorflow_core/python/ops/math_grad.py:1424: where (from tensorflow.python.ops.array_ops) is deprecated and will be removed in a future version.\n",
            "Instructions for updating:\n",
            "Use tf.where in 2.0, which has the same broadcast rule as np.where\n",
            "WARNING:tensorflow:From /usr/local/lib/python3.6/dist-packages/keras/backend/tensorflow_backend.py:1033: The name tf.assign_add is deprecated. Please use tf.compat.v1.assign_add instead.\n",
            "\n",
            "WARNING:tensorflow:From /usr/local/lib/python3.6/dist-packages/keras/backend/tensorflow_backend.py:1020: The name tf.assign is deprecated. Please use tf.compat.v1.assign instead.\n",
            "\n",
            "WARNING:tensorflow:From /usr/local/lib/python3.6/dist-packages/keras/backend/tensorflow_backend.py:3005: The name tf.Session is deprecated. Please use tf.compat.v1.Session instead.\n",
            "\n",
            "Train on 60000 samples, validate on 10000 samples\n",
            "Epoch 1/20\n",
            "WARNING:tensorflow:From /usr/local/lib/python3.6/dist-packages/keras/backend/tensorflow_backend.py:190: The name tf.get_default_session is deprecated. Please use tf.compat.v1.get_default_session instead.\n",
            "\n",
            "WARNING:tensorflow:From /usr/local/lib/python3.6/dist-packages/keras/backend/tensorflow_backend.py:197: The name tf.ConfigProto is deprecated. Please use tf.compat.v1.ConfigProto instead.\n",
            "\n",
            "WARNING:tensorflow:From /usr/local/lib/python3.6/dist-packages/keras/backend/tensorflow_backend.py:207: The name tf.global_variables is deprecated. Please use tf.compat.v1.global_variables instead.\n",
            "\n",
            "WARNING:tensorflow:From /usr/local/lib/python3.6/dist-packages/keras/backend/tensorflow_backend.py:216: The name tf.is_variable_initialized is deprecated. Please use tf.compat.v1.is_variable_initialized instead.\n",
            "\n",
            "WARNING:tensorflow:From /usr/local/lib/python3.6/dist-packages/keras/backend/tensorflow_backend.py:223: The name tf.variables_initializer is deprecated. Please use tf.compat.v1.variables_initializer instead.\n",
            "\n",
            "60000/60000 [==============================] - 9s 152us/step - loss: 0.1814 - acc: 0.9453 - val_loss: 0.0950 - val_acc: 0.9709\n",
            "Epoch 2/20\n",
            "60000/60000 [==============================] - 7s 115us/step - loss: 0.0812 - acc: 0.9749 - val_loss: 0.0760 - val_acc: 0.9769\n",
            "Epoch 3/20\n",
            "60000/60000 [==============================] - 7s 114us/step - loss: 0.0563 - acc: 0.9824 - val_loss: 0.0936 - val_acc: 0.9725\n",
            "Epoch 4/20\n",
            "60000/60000 [==============================] - 7s 112us/step - loss: 0.0411 - acc: 0.9870 - val_loss: 0.0830 - val_acc: 0.9773\n",
            "Epoch 5/20\n",
            "60000/60000 [==============================] - 7s 110us/step - loss: 0.0337 - acc: 0.9890 - val_loss: 0.0997 - val_acc: 0.9769\n",
            "Epoch 6/20\n",
            "60000/60000 [==============================] - 7s 110us/step - loss: 0.0295 - acc: 0.9903 - val_loss: 0.0779 - val_acc: 0.9812\n",
            "Epoch 7/20\n",
            "60000/60000 [==============================] - 7s 110us/step - loss: 0.0264 - acc: 0.9918 - val_loss: 0.0948 - val_acc: 0.9799\n",
            "Epoch 8/20\n",
            "60000/60000 [==============================] - 7s 111us/step - loss: 0.0234 - acc: 0.9925 - val_loss: 0.0907 - val_acc: 0.9801\n",
            "Epoch 9/20\n",
            "60000/60000 [==============================] - 7s 109us/step - loss: 0.0208 - acc: 0.9935 - val_loss: 0.0958 - val_acc: 0.9791\n",
            "Epoch 10/20\n",
            "60000/60000 [==============================] - 7s 109us/step - loss: 0.0200 - acc: 0.9942 - val_loss: 0.0914 - val_acc: 0.9826\n",
            "Epoch 11/20\n",
            "60000/60000 [==============================] - 7s 109us/step - loss: 0.0161 - acc: 0.9952 - val_loss: 0.0883 - val_acc: 0.9835\n",
            "Epoch 12/20\n",
            "60000/60000 [==============================] - 7s 109us/step - loss: 0.0154 - acc: 0.9956 - val_loss: 0.0963 - val_acc: 0.9819\n",
            "Epoch 13/20\n",
            "60000/60000 [==============================] - 6s 107us/step - loss: 0.0191 - acc: 0.9950 - val_loss: 0.1098 - val_acc: 0.9805\n",
            "Epoch 14/20\n",
            "60000/60000 [==============================] - 7s 110us/step - loss: 0.0170 - acc: 0.9954 - val_loss: 0.1129 - val_acc: 0.9803\n",
            "Epoch 15/20\n",
            "60000/60000 [==============================] - 7s 111us/step - loss: 0.0141 - acc: 0.9962 - val_loss: 0.1197 - val_acc: 0.9794\n",
            "Epoch 16/20\n",
            "60000/60000 [==============================] - 7s 111us/step - loss: 0.0142 - acc: 0.9961 - val_loss: 0.1075 - val_acc: 0.9835\n",
            "Epoch 17/20\n",
            "60000/60000 [==============================] - 7s 110us/step - loss: 0.0127 - acc: 0.9965 - val_loss: 0.1088 - val_acc: 0.9837\n",
            "Epoch 18/20\n",
            "60000/60000 [==============================] - 7s 109us/step - loss: 0.0171 - acc: 0.9961 - val_loss: 0.1652 - val_acc: 0.9746\n",
            "Epoch 19/20\n",
            "60000/60000 [==============================] - 7s 109us/step - loss: 0.0125 - acc: 0.9968 - val_loss: 0.1187 - val_acc: 0.9800\n",
            "Epoch 20/20\n",
            "60000/60000 [==============================] - 7s 110us/step - loss: 0.0127 - acc: 0.9967 - val_loss: 0.1096 - val_acc: 0.9832\n"
          ],
          "name": "stdout"
        }
      ]
    },
    {
      "cell_type": "code",
      "metadata": {
        "id": "kc8hT81H_2tx",
        "colab_type": "code",
        "outputId": "d72fea93-5d12-48a9-c9a1-f32f7e940f05",
        "colab": {
          "base_uri": "https://localhost:8080/",
          "height": 282
        }
      },
      "source": [
        "plt.plot(history.history['acc'])\n",
        "plt.plot(history.history['val_acc'])"
      ],
      "execution_count": 10,
      "outputs": [
        {
          "output_type": "execute_result",
          "data": {
            "text/plain": [
              "[<matplotlib.lines.Line2D at 0x7f091c60b198>]"
            ]
          },
          "metadata": {
            "tags": []
          },
          "execution_count": 10
        },
        {
          "output_type": "display_data",
          "data": {
            "image/png": "[encoded data removed]",
            "text/plain": [
              "<Figure size 432x288 with 1 Axes>"
            ]
          },
          "metadata": {
            "tags": []
          }
        }
      ]
    },
    {
      "cell_type": "code",
      "metadata": {
        "id": "4roxY5_fPGvM",
        "colab_type": "code",
        "outputId": "41ce473c-7dd1-49ea-83ef-b34faf4eefc7",
        "colab": {
          "base_uri": "https://localhost:8080/",
          "height": 282
        }
      },
      "source": [
        "plt.plot(history.history['acc'])\n",
        "plt.plot(history.history['val_acc'])\n",
        "plt.plot(history.history['loss'])"
      ],
      "execution_count": 11,
      "outputs": [
        {
          "output_type": "execute_result",
          "data": {
            "text/plain": [
              "[<matplotlib.lines.Line2D at 0x7f09100d1278>]"
            ]
          },
          "metadata": {
            "tags": []
          },
          "execution_count": 11
        },
        {
          "output_type": "display_data",
          "data": {
            "image/png": "[encoded data removed]",
            "text/plain": [
              "<Figure size 432x288 with 1 Axes>"
            ]
          },
          "metadata": {
            "tags": []
          }
        }
      ]
    },
    {
      "cell_type": "code",
      "metadata": {
        "id": "nqvWsRjwPPOH",
        "colab_type": "code",
        "outputId": "dbacfdd9-566d-4280-bd90-3bb5895d2d95",
        "colab": {
          "base_uri": "https://localhost:8080/",
          "height": 34
        }
      },
      "source": [
        "score=model.evaluate(X_test,y_test)"
      ],
      "execution_count": 12,
      "outputs": [
        {
          "output_type": "stream",
          "text": [
            "10000/10000 [==============================] - 0s 34us/step\n"
          ],
          "name": "stdout"
        }
      ]
    },
    {
      "cell_type": "code",
      "metadata": {
        "id": "RvfNRrDgPymT",
        "colab_type": "code",
        "outputId": "f6ffd539-8990-4ac5-96fd-2d77276efec4",
        "colab": {
          "base_uri": "https://localhost:8080/",
          "height": 34
        }
      },
      "source": [
        "score"
      ],
      "execution_count": 13,
      "outputs": [
        {
          "output_type": "execute_result",
          "data": {
            "text/plain": [
              "[0.10959799170846116, 0.9832]"
            ]
          },
          "metadata": {
            "tags": []
          },
          "execution_count": 13
        }
      ]
    }
  ]
}